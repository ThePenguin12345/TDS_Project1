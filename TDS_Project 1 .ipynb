{
 "cells": [
  {
   "cell_type": "code",
   "execution_count": 1,
   "id": "be02bd65",
   "metadata": {},
   "outputs": [],
   "source": [
    "import pandas as pd\n",
    "import numpy as np\n",
    "import matplotlib.pyplot as plt"
   ]
  },
  {
   "cell_type": "code",
   "execution_count": 3,
   "id": "4cd9f85c",
   "metadata": {},
   "outputs": [],
   "source": [
    "users = pd.read_csv('users.csv')\n",
    "repos = pd.read_csv('repositories.csv')"
   ]
  },
  {
   "cell_type": "code",
   "execution_count": 4,
   "id": "4e88375f",
   "metadata": {},
   "outputs": [
    {
     "data": {
      "text/html": [
       "<div>\n",
       "<style scoped>\n",
       "    .dataframe tbody tr th:only-of-type {\n",
       "        vertical-align: middle;\n",
       "    }\n",
       "\n",
       "    .dataframe tbody tr th {\n",
       "        vertical-align: top;\n",
       "    }\n",
       "\n",
       "    .dataframe thead th {\n",
       "        text-align: right;\n",
       "    }\n",
       "</style>\n",
       "<table border=\"1\" class=\"dataframe\">\n",
       "  <thead>\n",
       "    <tr style=\"text-align: right;\">\n",
       "      <th></th>\n",
       "      <th>login</th>\n",
       "      <th>name</th>\n",
       "      <th>company</th>\n",
       "      <th>location</th>\n",
       "      <th>email</th>\n",
       "      <th>hireable</th>\n",
       "      <th>bio</th>\n",
       "      <th>public_repos</th>\n",
       "      <th>followers</th>\n",
       "      <th>following</th>\n",
       "      <th>created_at</th>\n",
       "    </tr>\n",
       "  </thead>\n",
       "  <tbody>\n",
       "    <tr>\n",
       "      <th>55</th>\n",
       "      <td>VincentWong3</td>\n",
       "      <td>NaN</td>\n",
       "      <td>NaN</td>\n",
       "      <td>Shanghai</td>\n",
       "      <td>NaN</td>\n",
       "      <td>False</td>\n",
       "      <td>auto engineer</td>\n",
       "      <td>7</td>\n",
       "      <td>2246</td>\n",
       "      <td>7</td>\n",
       "      <td>2020-10-14T13:39:04Z</td>\n",
       "    </tr>\n",
       "    <tr>\n",
       "      <th>157</th>\n",
       "      <td>ZigaoWang</td>\n",
       "      <td>Zigao Wang</td>\n",
       "      <td>YK PAO SCHOOL</td>\n",
       "      <td>Shanghai, China</td>\n",
       "      <td>zigao.wang24@gmail.com</td>\n",
       "      <td>False</td>\n",
       "      <td>A passionate student developer and tech enthus...</td>\n",
       "      <td>101</td>\n",
       "      <td>846</td>\n",
       "      <td>14624</td>\n",
       "      <td>2022-03-21T03:01:30Z</td>\n",
       "    </tr>\n",
       "    <tr>\n",
       "      <th>177</th>\n",
       "      <td>sun0225SUN</td>\n",
       "      <td>Guoqi Sun</td>\n",
       "      <td>TWILIGHT-AI</td>\n",
       "      <td>Shanghai China</td>\n",
       "      <td>sun412926@gmail.com</td>\n",
       "      <td>True</td>\n",
       "      <td>路虽远行则将至，事虽难做则必成！</td>\n",
       "      <td>22</td>\n",
       "      <td>762</td>\n",
       "      <td>127</td>\n",
       "      <td>2021-02-16T20:20:40Z</td>\n",
       "    </tr>\n",
       "    <tr>\n",
       "      <th>217</th>\n",
       "      <td>dastagir-ahmed</td>\n",
       "      <td>dbestech</td>\n",
       "      <td>DBESTECH</td>\n",
       "      <td>China, Shanghai</td>\n",
       "      <td>NaN</td>\n",
       "      <td>True</td>\n",
       "      <td>Flutter, Laravel, Nodejs, GoLang programmer. R...</td>\n",
       "      <td>43</td>\n",
       "      <td>622</td>\n",
       "      <td>0</td>\n",
       "      <td>2020-05-24T07:29:32Z</td>\n",
       "    </tr>\n",
       "    <tr>\n",
       "      <th>285</th>\n",
       "      <td>cubxxw</td>\n",
       "      <td>熊鑫伟 Xinwei Xiong</td>\n",
       "      <td>BELONG TO MY COMMUNITY @KUBECUB I AM CURRENTLY...</td>\n",
       "      <td>@shanghai</td>\n",
       "      <td>3293172751NSS@gmail.com</td>\n",
       "      <td>True</td>\n",
       "      <td>⚡ Do the hard things and you'll get it\\n🚀 Neve...</td>\n",
       "      <td>125</td>\n",
       "      <td>493</td>\n",
       "      <td>106</td>\n",
       "      <td>2021-06-19T05:00:04Z</td>\n",
       "    </tr>\n",
       "  </tbody>\n",
       "</table>\n",
       "</div>"
      ],
      "text/plain": [
       "              login              name  \\\n",
       "55     VincentWong3               NaN   \n",
       "157       ZigaoWang        Zigao Wang   \n",
       "177      sun0225SUN         Guoqi Sun   \n",
       "217  dastagir-ahmed          dbestech   \n",
       "285          cubxxw  熊鑫伟 Xinwei Xiong   \n",
       "\n",
       "                                               company         location  \\\n",
       "55                                                 NaN         Shanghai   \n",
       "157                                      YK PAO SCHOOL  Shanghai, China   \n",
       "177                                        TWILIGHT-AI   Shanghai China   \n",
       "217                                           DBESTECH  China, Shanghai   \n",
       "285  BELONG TO MY COMMUNITY @KUBECUB I AM CURRENTLY...        @shanghai   \n",
       "\n",
       "                       email  hireable  \\\n",
       "55                       NaN     False   \n",
       "157   zigao.wang24@gmail.com     False   \n",
       "177      sun412926@gmail.com      True   \n",
       "217                      NaN      True   \n",
       "285  3293172751NSS@gmail.com      True   \n",
       "\n",
       "                                                   bio  public_repos  \\\n",
       "55                                       auto engineer             7   \n",
       "157  A passionate student developer and tech enthus...           101   \n",
       "177                                   路虽远行则将至，事虽难做则必成！            22   \n",
       "217  Flutter, Laravel, Nodejs, GoLang programmer. R...            43   \n",
       "285  ⚡ Do the hard things and you'll get it\\n🚀 Neve...           125   \n",
       "\n",
       "     followers  following            created_at  \n",
       "55        2246          7  2020-10-14T13:39:04Z  \n",
       "157        846      14624  2022-03-21T03:01:30Z  \n",
       "177        762        127  2021-02-16T20:20:40Z  \n",
       "217        622          0  2020-05-24T07:29:32Z  \n",
       "285        493        106  2021-06-19T05:00:04Z  "
      ]
     },
     "execution_count": 4,
     "metadata": {},
     "output_type": "execute_result"
    }
   ],
   "source": [
    "# 6 \n",
    "users2020 = users[users['created_at'] > '2020-01-01']\n",
    "users2020.head()"
   ]
  },
  {
   "cell_type": "code",
   "execution_count": 6,
   "id": "1b578fe6",
   "metadata": {},
   "outputs": [
    {
     "data": {
      "text/plain": [
       "Python        148\n",
       "Go             65\n",
       "HTML           41\n",
       "JavaScript     37\n",
       "C++            22\n",
       "Name: language, dtype: int64"
      ]
     },
     "execution_count": 6,
     "metadata": {},
     "output_type": "execute_result"
    }
   ],
   "source": [
    "repos_2020 = repos[repos['login'].isin(users2020['login'].tolist())]\n",
    "repos_2020['language'].value_counts().head()"
   ]
  },
  {
   "cell_type": "code",
   "execution_count": 7,
   "id": "236f4f53",
   "metadata": {},
   "outputs": [
    {
     "data": {
      "text/plain": [
       "-0.005007119541792242"
      ]
     },
     "execution_count": 7,
     "metadata": {},
     "output_type": "execute_result"
    }
   ],
   "source": [
    "correlation = users['followers'].corr(users['public_repos'])\n",
    "correlation"
   ]
  },
  {
   "cell_type": "code",
   "execution_count": 8,
   "id": "e0432361",
   "metadata": {},
   "outputs": [
    {
     "name": "stdout",
     "output_type": "stream",
     "text": [
      "Correlation coefficient: 0.295\n",
      "\n",
      "Additional Statistics:\n",
      "total_repos: 59034\n",
      "projects_enabled: 58074\n",
      "wiki_enabled: 50965\n",
      "both_enabled: 50894\n",
      "neither_enabled: 889\n"
     ]
    }
   ],
   "source": [
    "\n",
    "import pandas as pd\n",
    "import numpy as np\n",
    "\n",
    "def analyze_repo_features(csv_file):\n",
    "\n",
    "    df = pd.read_csv(csv_file)\n",
    "\n",
    "    if df['has_projects'].dtype == 'object':\n",
    "        df['has_projects'] = df['has_projects'].map({'true': True, 'false': False})\n",
    "    if df['has_wiki'].dtype == 'object':\n",
    "        df['has_wiki'] = df['has_wiki'].map({'true': True, 'false': False})\n",
    "\n",
    "    correlation = df['has_projects'].corr(df['has_wiki'])\n",
    "\n",
    "    stats = {\n",
    "        'total_repos': len(df),\n",
    "        'projects_enabled': df['has_projects'].sum(),\n",
    "        'wiki_enabled': df['has_wiki'].sum(),\n",
    "        'both_enabled': ((df['has_projects']) & (df['has_wiki'])).sum(),\n",
    "        'neither_enabled': ((~df['has_projects']) & (~df['has_wiki'])).sum()\n",
    "    }\n",
    "\n",
    "    return round(correlation, 3), stats\n",
    "\n",
    "correlation, stats = analyze_repo_features('repositories.csv')\n",
    "print(f\"Correlation coefficient: {correlation}\")\n",
    "print(\"\\nAdditional Statistics:\")\n",
    "for key, value in stats.items():\n",
    "    print(f\"{key}: {value}\")"
   ]
  },
  {
   "cell_type": "code",
   "execution_count": 11,
   "id": "922f0f8d",
   "metadata": {},
   "outputs": [
    {
     "name": "stdout",
     "output_type": "stream",
     "text": [
      "Regression slope of followers on bio word count: -42.033\n"
     ]
    }
   ],
   "source": [
    "# 13\n",
    "import pandas as pd\n",
    "from scipy.stats import linregress\n",
    "\n",
    "# Load the data\n",
    "users_df = pd.read_csv('users.csv')\n",
    "\n",
    "# Filter out rows without a bio\n",
    "users_df = users_df[users_df['bio'].notna()]\n",
    "\n",
    "# Calculate bio length in terms of word count\n",
    "users_df['bio_length'] = users_df['bio'].apply(lambda x: len(x.split()))\n",
    "\n",
    "# Perform linear regression with followers as the dependent variable and bio_length as the independent variable\n",
    "slope, intercept, r_value, p_value, std_err = linregress(users_df['bio_length'], users_df['followers'])\n",
    "\n",
    "# Output the slope to 3 decimal places\n",
    "print(f\"Regression slope of followers on bio word count: {slope:.3f}\")\n"
   ]
  },
  {
   "cell_type": "code",
   "execution_count": 12,
   "id": "cd7ab30f",
   "metadata": {},
   "outputs": [
    {
     "name": "stdout",
     "output_type": "stream",
     "text": [
      "Zhang\n"
     ]
    }
   ],
   "source": [
    "# 16\n",
    "new_users = users[users['name'].notna()].copy()\n",
    "new_users['surname'] = new_users['name'].str.split().str[-1].str.strip()\n",
    "surname_counts = new_users['surname'].value_counts()\n",
    "max_count = surname_counts.max()\n",
    "common_surnames = surname_counts[surname_counts == max_count].index.tolist()\n",
    "common_surnames.sort()\n",
    "print(','.join(common_surnames))"
   ]
  },
  {
   "cell_type": "code",
   "execution_count": null,
   "id": "fa13be5f",
   "metadata": {},
   "outputs": [],
   "source": []
  }
 ],
 "metadata": {
  "kernelspec": {
   "display_name": "Python 3 (ipykernel)",
   "language": "python",
   "name": "python3"
  },
  "language_info": {
   "codemirror_mode": {
    "name": "ipython",
    "version": 3
   },
   "file_extension": ".py",
   "mimetype": "text/x-python",
   "name": "python",
   "nbconvert_exporter": "python",
   "pygments_lexer": "ipython3",
   "version": "3.9.12"
  }
 },
 "nbformat": 4,
 "nbformat_minor": 5
}
